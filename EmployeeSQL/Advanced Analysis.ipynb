{
 "cells": [
  {
   "cell_type": "code",
   "execution_count": 25,
   "id": "0d19b3da",
   "metadata": {},
   "outputs": [
    {
     "name": "stdout",
     "output_type": "stream",
     "text": [
      "PostgreSQL connection is closed\n"
     ]
    }
   ],
   "source": [
    "import psycopg2\n",
    "from psycopg2 import Error\n",
    "from sqlalchemy import create_engine\n",
    "from sqlalchemy import inspect\n",
    "from SQLkeys import password\n",
    "import pandas as pd\n",
    "import matplotlib.pyplot as plt\n",
    "import numpy as np\n",
    "try:\n",
    "    # Connect to an existing database\n",
    "    protocol = 'postgresql'\n",
    "    username = 'postgres'\n",
    "    host = 'localhost'\n",
    "    port = 5432\n",
    "    database_name = 'EmployeesSQL'\n",
    "\n",
    "    # Create a cursor to perform database operations\n",
    "    connection_string = f'{protocol}://{username}:{password}@{host}:{port}/{database_name}'\n",
    "    con = psycopg2.connect(connection_string)\n",
    "\n",
    "    def pd_df(sql_query, database = con):\n",
    "        table = pd.read_sql_query(sql_query, database)\n",
    "        return table\n",
    "    salaries=pd_df('SELECT * from salaries')\n",
    "    employee=pd_df('select * from employees')\n",
    "    title=pd_df('select * from titles')\n",
    "    \n",
    "\n",
    "except (Exception, Error) as error:\n",
    "    print(\"Error while connecting to PostgreSQL\", error)\n",
    "\n",
    "finally:\n",
    "     if (con):\n",
    "        con.close()\n",
    "        print(\"PostgreSQL connection is closed\")\n"
   ]
  },
  {
   "cell_type": "code",
   "execution_count": 32,
   "id": "c9c87a05",
   "metadata": {},
   "outputs": [
    {
     "data": {
      "image/png": "[encoded data removed]",
      "text/plain": [
       "<Figure size 432x288 with 1 Axes>"
      ]
     },
     "metadata": {
      "needs_background": "light"
     },
     "output_type": "display_data"
    },
    {
     "data": {
      "text/plain": [
       "<Figure size 432x288 with 0 Axes>"
      ]
     },
     "metadata": {},
     "output_type": "display_data"
    }
   ],
   "source": [
    "plt.hist(salaries['salary'],bins=10000)\n",
    "plt.title(\"Most Common Salary Ranges\")\n",
    "plt.xlabel(\"Salary\")\n",
    "plt.ylabel('Number Of Counts')\n",
    "plt.xlim(38000,120000)\n",
    "plt.ylim(0,80)\n",
    "plt.show()\n",
    "plt.savefig('OutputData/ADA1',dpi=400);\n"
   ]
  },
  {
   "cell_type": "code",
   "execution_count": 27,
   "id": "ad7d2c11",
   "metadata": {
    "scrolled": true
   },
   "outputs": [
    {
     "data": {
      "text/html": [
       "<div>\n",
       "<style scoped>\n",
       "    .dataframe tbody tr th:only-of-type {\n",
       "        vertical-align: middle;\n",
       "    }\n",
       "\n",
       "    .dataframe tbody tr th {\n",
       "        vertical-align: top;\n",
       "    }\n",
       "\n",
       "    .dataframe thead th {\n",
       "        text-align: right;\n",
       "    }\n",
       "</style>\n",
       "<table border=\"1\" class=\"dataframe\">\n",
       "  <thead>\n",
       "    <tr style=\"text-align: right;\">\n",
       "      <th></th>\n",
       "      <th>emp_no</th>\n",
       "      <th>emp_title_id</th>\n",
       "      <th>birth_date</th>\n",
       "      <th>first_name</th>\n",
       "      <th>last_name</th>\n",
       "      <th>sex</th>\n",
       "      <th>hire_date</th>\n",
       "    </tr>\n",
       "  </thead>\n",
       "  <tbody>\n",
       "    <tr>\n",
       "      <th>0</th>\n",
       "      <td>473302</td>\n",
       "      <td>s0001</td>\n",
       "      <td>1953-07-25</td>\n",
       "      <td>Hideyuki</td>\n",
       "      <td>Zallocco</td>\n",
       "      <td>M</td>\n",
       "      <td>1990-04-28</td>\n",
       "    </tr>\n",
       "    <tr>\n",
       "      <th>1</th>\n",
       "      <td>475053</td>\n",
       "      <td>e0002</td>\n",
       "      <td>1954-11-18</td>\n",
       "      <td>Byong</td>\n",
       "      <td>Delgrande</td>\n",
       "      <td>F</td>\n",
       "      <td>1991-09-07</td>\n",
       "    </tr>\n",
       "    <tr>\n",
       "      <th>2</th>\n",
       "      <td>57444</td>\n",
       "      <td>e0002</td>\n",
       "      <td>1958-01-30</td>\n",
       "      <td>Berry</td>\n",
       "      <td>Babb</td>\n",
       "      <td>F</td>\n",
       "      <td>1992-03-21</td>\n",
       "    </tr>\n",
       "    <tr>\n",
       "      <th>3</th>\n",
       "      <td>421786</td>\n",
       "      <td>s0001</td>\n",
       "      <td>1957-09-28</td>\n",
       "      <td>Xiong</td>\n",
       "      <td>Verhoeff</td>\n",
       "      <td>M</td>\n",
       "      <td>1987-11-26</td>\n",
       "    </tr>\n",
       "    <tr>\n",
       "      <th>4</th>\n",
       "      <td>282238</td>\n",
       "      <td>e0003</td>\n",
       "      <td>1952-10-28</td>\n",
       "      <td>Abdelkader</td>\n",
       "      <td>Baumann</td>\n",
       "      <td>F</td>\n",
       "      <td>1991-01-18</td>\n",
       "    </tr>\n",
       "  </tbody>\n",
       "</table>\n",
       "</div>"
      ],
      "text/plain": [
       "   emp_no emp_title_id  birth_date  first_name  last_name sex   hire_date\n",
       "0  473302        s0001  1953-07-25    Hideyuki   Zallocco   M  1990-04-28\n",
       "1  475053        e0002  1954-11-18       Byong  Delgrande   F  1991-09-07\n",
       "2   57444        e0002  1958-01-30       Berry       Babb   F  1992-03-21\n",
       "3  421786        s0001  1957-09-28       Xiong   Verhoeff   M  1987-11-26\n",
       "4  282238        e0003  1952-10-28  Abdelkader    Baumann   F  1991-01-18"
      ]
     },
     "execution_count": 27,
     "metadata": {},
     "output_type": "execute_result"
    }
   ],
   "source": [
    "employee.head()"
   ]
  },
  {
   "cell_type": "code",
   "execution_count": 28,
   "id": "f5de13b4",
   "metadata": {},
   "outputs": [],
   "source": [
    "#rename column to merge table\n",
    "\n",
    "employee=employee.rename(columns={'emp_title_id':'title_id'})\n",
    "\n",
    "#merge Table(employee) and Table(title)\n",
    "\n",
    "merge1=employee.merge(title,how='left',on='title_id')\n",
    "\n",
    "#merge Table(salaries) with above merged Table\n",
    "\n",
    "FinalTable=merge1.merge(salaries,how='left',on='emp_no')\n"
   ]
  },
  {
   "cell_type": "code",
   "execution_count": 29,
   "id": "15367a8e",
   "metadata": {},
   "outputs": [
    {
     "data": {
      "text/plain": [
       "title\n",
       "Assistant Engineer    48564.434447\n",
       "Engineer              48535.336511\n",
       "Manager               51531.041667\n",
       "Senior Engineer       48506.799871\n",
       "Senior Staff          58550.172704\n",
       "Staff                 58465.382850\n",
       "Technique Leader      48582.896092\n",
       "Name: salary, dtype: float64"
      ]
     },
     "execution_count": 29,
     "metadata": {},
     "output_type": "execute_result"
    }
   ],
   "source": [
    "Group_df=FinalTable.groupby(FinalTable['title'])['salary'].mean()\n",
    "\n",
    "Group_df"
   ]
  },
  {
   "cell_type": "code",
   "execution_count": 30,
   "id": "219958c1",
   "metadata": {},
   "outputs": [
    {
     "data": {
      "image/png": "[encoded data removed]",
      "text/plain": [
       "<Figure size 576x432 with 1 Axes>"
      ]
     },
     "metadata": {
      "needs_background": "light"
     },
     "output_type": "display_data"
    }
   ],
   "source": [
    "x_ticks=Group_df.index.values\n",
    "x_axis=np.arange(len(x_ticks))\n",
    "plt.figure(figsize=(8,6))\n",
    "plt.bar(x_axis,Group_df.sort_values(ascending=True),\n",
    "        facecolor='green',alpha=0.8,align='center',width=0.5)\n",
    "\n",
    "for x,y in enumerate(Group_df.sort_values(ascending=True)):\n",
    "    plt.text(x,y+700,str(round(y,2)),ha='center')\n",
    "\n",
    "\n",
    "tick_locations=[value for value in x_axis]\n",
    "plt.xticks(tick_locations,x_ticks,rotation_mode='anchor',ha='right',rotation=45)\n",
    "plt.title('Average Salary By Title')\n",
    "plt.xlabel('Job Title')\n",
    "plt.ylabel('Average Salary')\n",
    "plt.savefig('OutputData/ADA2',dpi=400)\n",
    "plt.show();\n",
    "\n"
   ]
  },
  {
   "cell_type": "code",
   "execution_count": null,
   "id": "5095f44d",
   "metadata": {},
   "outputs": [],
   "source": []
  }
 ],
 "metadata": {
  "kernelspec": {
   "display_name": "Python 3 (ipykernel)",
   "language": "python",
   "name": "python3"
  },
  "language_info": {
   "codemirror_mode": {
    "name": "ipython",
    "version": 3
   },
   "file_extension": ".py",
   "mimetype": "text/x-python",
   "name": "python",
   "nbconvert_exporter": "python",
   "pygments_lexer": "ipython3",
   "version": "3.7.7"
  },
  "vscode": {
   "interpreter": {
    "hash": "c9b0bf6a235527dee47d8aa1349c2e3aa22b2d4d85c71094e9bb0f838d643ae3"
   }
  }
 },
 "nbformat": 4,
 "nbformat_minor": 5
}
