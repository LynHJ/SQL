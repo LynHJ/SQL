{
 "cells": [
  {
   "cell_type": "code",
   "execution_count": 1,
   "id": "29eee800",
   "metadata": {},
   "outputs": [],
   "source": [
    "import psycopg2\n",
    "from psycopg2 import Error\n",
    "from config import config\n",
    "import pandas as pd\n",
    "import matplotlib.pyplot as plt\n",
    "import numpy as np\n",
    "try:\n",
    "    # Connect to an existing database\n",
    "    params=config()\n",
    "    conn = psycopg2.connect(**params)\n",
    "\n",
    "    # Create a cursor to perform database operations\n",
    "    cur = conn.cursor()\n",
    "\n",
    "    def pd_df(sql_query, database = conn):\n",
    "        table = pd.read_sql_query(sql_query, database)\n",
    "        return table\n",
    "    salaries=pd_df('SELECT * from salaries')\n",
    "    employee=pd_df('select * from employees')\n",
    "    title=pd_df('select * from titles')\n",
    "    \n",
    "\n",
    "except (Exception, Error) as error:\n",
    "    print(\"Error while connecting to PostgreSQL\", error)\n",
    "# finally:\n",
    "#     if (conn):\n",
    "#         cur.close()\n",
    "#         conn.close()\n",
    "#         print(\"PostgreSQL connection is closed\")\n"
   ]
  },
  {
   "cell_type": "code",
   "execution_count": 2,
   "id": "77bbeb26",
   "metadata": {},
   "outputs": [
    {
     "data": {
      "image/png": "[encoded data removed]",
      "text/plain": [
       "<Figure size 432x288 with 1 Axes>"
      ]
     },
     "metadata": {
      "needs_background": "light"
     },
     "output_type": "display_data"
    }
   ],
   "source": [
    "plt.hist(salaries['salary'],bins=10000)\n",
    "plt.title(\"Most Common Salary Ranges\")\n",
    "plt.xlabel(\"Salary\")\n",
    "plt.ylabel('Number Of Counts')\n",
    "plt.xlim(38000,120000)\n",
    "plt.ylim(0,80)\n",
    "\n",
    "plt.show()"
   ]
  },
  {
   "cell_type": "code",
   "execution_count": 3,
   "id": "044f7681",
   "metadata": {
    "scrolled": true
   },
   "outputs": [
    {
     "data": {
      "text/html": [
       "<div>\n",
       "<style scoped>\n",
       "    .dataframe tbody tr th:only-of-type {\n",
       "        vertical-align: middle;\n",
       "    }\n",
       "\n",
       "    .dataframe tbody tr th {\n",
       "        vertical-align: top;\n",
       "    }\n",
       "\n",
       "    .dataframe thead th {\n",
       "        text-align: right;\n",
       "    }\n",
       "</style>\n",
       "<table border=\"1\" class=\"dataframe\">\n",
       "  <thead>\n",
       "    <tr style=\"text-align: right;\">\n",
       "      <th></th>\n",
       "      <th>emp_no</th>\n",
       "      <th>emp_title_id</th>\n",
       "      <th>birth_date</th>\n",
       "      <th>first_name</th>\n",
       "      <th>last_name</th>\n",
       "      <th>sex</th>\n",
       "      <th>hire_date</th>\n",
       "    </tr>\n",
       "  </thead>\n",
       "  <tbody>\n",
       "    <tr>\n",
       "      <th>0</th>\n",
       "      <td>473302</td>\n",
       "      <td>s0001</td>\n",
       "      <td>1953-07-25</td>\n",
       "      <td>Hideyuki</td>\n",
       "      <td>Zallocco</td>\n",
       "      <td>M</td>\n",
       "      <td>1990-04-28</td>\n",
       "    </tr>\n",
       "    <tr>\n",
       "      <th>1</th>\n",
       "      <td>475053</td>\n",
       "      <td>e0002</td>\n",
       "      <td>1954-11-18</td>\n",
       "      <td>Byong</td>\n",
       "      <td>Delgrande</td>\n",
       "      <td>F</td>\n",
       "      <td>1991-09-07</td>\n",
       "    </tr>\n",
       "    <tr>\n",
       "      <th>2</th>\n",
       "      <td>57444</td>\n",
       "      <td>e0002</td>\n",
       "      <td>1958-01-30</td>\n",
       "      <td>Berry</td>\n",
       "      <td>Babb</td>\n",
       "      <td>F</td>\n",
       "      <td>1992-03-21</td>\n",
       "    </tr>\n",
       "    <tr>\n",
       "      <th>3</th>\n",
       "      <td>421786</td>\n",
       "      <td>s0001</td>\n",
       "      <td>1957-09-28</td>\n",
       "      <td>Xiong</td>\n",
       "      <td>Verhoeff</td>\n",
       "      <td>M</td>\n",
       "      <td>1987-11-26</td>\n",
       "    </tr>\n",
       "    <tr>\n",
       "      <th>4</th>\n",
       "      <td>282238</td>\n",
       "      <td>e0003</td>\n",
       "      <td>1952-10-28</td>\n",
       "      <td>Abdelkader</td>\n",
       "      <td>Baumann</td>\n",
       "      <td>F</td>\n",
       "      <td>1991-01-18</td>\n",
       "    </tr>\n",
       "    <tr>\n",
       "      <th>...</th>\n",
       "      <td>...</td>\n",
       "      <td>...</td>\n",
       "      <td>...</td>\n",
       "      <td>...</td>\n",
       "      <td>...</td>\n",
       "      <td>...</td>\n",
       "      <td>...</td>\n",
       "    </tr>\n",
       "    <tr>\n",
       "      <th>300019</th>\n",
       "      <td>464231</td>\n",
       "      <td>s0001</td>\n",
       "      <td>1958-08-14</td>\n",
       "      <td>Constantino</td>\n",
       "      <td>Eastman</td>\n",
       "      <td>M</td>\n",
       "      <td>1988-10-28</td>\n",
       "    </tr>\n",
       "    <tr>\n",
       "      <th>300020</th>\n",
       "      <td>255832</td>\n",
       "      <td>e0002</td>\n",
       "      <td>1955-05-08</td>\n",
       "      <td>Yuping</td>\n",
       "      <td>Dayang</td>\n",
       "      <td>F</td>\n",
       "      <td>1995-02-26</td>\n",
       "    </tr>\n",
       "    <tr>\n",
       "      <th>300021</th>\n",
       "      <td>76671</td>\n",
       "      <td>s0001</td>\n",
       "      <td>1959-06-09</td>\n",
       "      <td>Ortrud</td>\n",
       "      <td>Plessier</td>\n",
       "      <td>M</td>\n",
       "      <td>1988-02-24</td>\n",
       "    </tr>\n",
       "    <tr>\n",
       "      <th>300022</th>\n",
       "      <td>264920</td>\n",
       "      <td>s0001</td>\n",
       "      <td>1959-09-22</td>\n",
       "      <td>Percy</td>\n",
       "      <td>Samarati</td>\n",
       "      <td>F</td>\n",
       "      <td>1994-09-08</td>\n",
       "    </tr>\n",
       "    <tr>\n",
       "      <th>300023</th>\n",
       "      <td>464503</td>\n",
       "      <td>s0002</td>\n",
       "      <td>1964-05-31</td>\n",
       "      <td>Arvind</td>\n",
       "      <td>Slobodova</td>\n",
       "      <td>M</td>\n",
       "      <td>1987-11-23</td>\n",
       "    </tr>\n",
       "  </tbody>\n",
       "</table>\n",
       "<p>300024 rows × 7 columns</p>\n",
       "</div>"
      ],
      "text/plain": [
       "        emp_no emp_title_id  birth_date   first_name  last_name sex  \\\n",
       "0       473302        s0001  1953-07-25     Hideyuki   Zallocco   M   \n",
       "1       475053        e0002  1954-11-18        Byong  Delgrande   F   \n",
       "2        57444        e0002  1958-01-30        Berry       Babb   F   \n",
       "3       421786        s0001  1957-09-28        Xiong   Verhoeff   M   \n",
       "4       282238        e0003  1952-10-28   Abdelkader    Baumann   F   \n",
       "...        ...          ...         ...          ...        ...  ..   \n",
       "300019  464231        s0001  1958-08-14  Constantino    Eastman   M   \n",
       "300020  255832        e0002  1955-05-08       Yuping     Dayang   F   \n",
       "300021   76671        s0001  1959-06-09       Ortrud   Plessier   M   \n",
       "300022  264920        s0001  1959-09-22        Percy   Samarati   F   \n",
       "300023  464503        s0002  1964-05-31       Arvind  Slobodova   M   \n",
       "\n",
       "         hire_date  \n",
       "0       1990-04-28  \n",
       "1       1991-09-07  \n",
       "2       1992-03-21  \n",
       "3       1987-11-26  \n",
       "4       1991-01-18  \n",
       "...            ...  \n",
       "300019  1988-10-28  \n",
       "300020  1995-02-26  \n",
       "300021  1988-02-24  \n",
       "300022  1994-09-08  \n",
       "300023  1987-11-23  \n",
       "\n",
       "[300024 rows x 7 columns]"
      ]
     },
     "execution_count": 3,
     "metadata": {},
     "output_type": "execute_result"
    }
   ],
   "source": [
    "employee"
   ]
  },
  {
   "cell_type": "code",
   "execution_count": 4,
   "id": "2c86acd3",
   "metadata": {},
   "outputs": [],
   "source": [
    "#rename column to merge table\n",
    "employee=employee.rename(columns={'emp_title_id':'title_id'})\n",
    "\n",
    "#merge Table(employee) and Table(title)\n",
    "merge1=employee.merge(title,how='left',on='title_id')\n",
    "\n",
    "#merge Table(salaries) with above merged Table\n",
    "FinalTable=merge1.merge(salaries,how='left',on='emp_no')\n"
   ]
  },
  {
   "cell_type": "code",
   "execution_count": 5,
   "id": "b1275114",
   "metadata": {},
   "outputs": [
    {
     "data": {
      "text/plain": [
       "title\n",
       "Assistant Engineer    48564.434447\n",
       "Engineer              48535.336511\n",
       "Manager               51531.041667\n",
       "Senior Engineer       48506.799871\n",
       "Senior Staff          58550.172704\n",
       "Staff                 58465.382850\n",
       "Technique Leader      48582.896092\n",
       "Name: salary, dtype: float64"
      ]
     },
     "execution_count": 5,
     "metadata": {},
     "output_type": "execute_result"
    }
   ],
   "source": [
    "Group_df=FinalTable.groupby(FinalTable['title'])['salary'].mean()\n",
    "Group_df"
   ]
  },
  {
   "cell_type": "code",
   "execution_count": 18,
   "id": "ebf9f908",
   "metadata": {},
   "outputs": [
    {
     "data": {
      "image/png": "[encoded data removed]",
      "text/plain": [
       "<Figure size 576x432 with 1 Axes>"
      ]
     },
     "metadata": {
      "needs_background": "light"
     },
     "output_type": "display_data"
    }
   ],
   "source": [
    "x_ticks=Group_df.index.values\n",
    "x_axis=np.arange(len(x_ticks))\n",
    "plt.figure(figsize=(8,6))\n",
    "plt.bar(x_axis,Group_df.sort_values(ascending=True),\n",
    "        facecolor='green',alpha=0.8,align='center',width=0.5)\n",
    "\n",
    "for x,y in enumerate(Group_df.sort_values(ascending=True)):\n",
    "    plt.text(x,y+700,str(round(y,2)),ha='center')\n",
    "\n",
    "\n",
    "tick_locations=[value for value in x_axis]\n",
    "plt.xticks(tick_locations,x_ticks,rotation_mode='anchor',ha='right',rotation=45)\n",
    "plt.title('Average Salary By Title')\n",
    "plt.xlabel('Job Title')\n",
    "plt.ylabel('Average Salary');\n"
   ]
  },
  {
   "cell_type": "code",
   "execution_count": null,
   "id": "1a17325f",
   "metadata": {},
   "outputs": [],
   "source": []
  }
 ],
 "metadata": {
  "kernelspec": {
   "display_name": "Python [conda env:PythonData] *",
   "language": "python",
   "name": "conda-env-PythonData-py"
  },
  "language_info": {
   "codemirror_mode": {
    "name": "ipython",
    "version": 3
   },
   "file_extension": ".py",
   "mimetype": "text/x-python",
   "name": "python",
   "nbconvert_exporter": "python",
   "pygments_lexer": "ipython3",
   "version": "3.7.7"
  }
 },
 "nbformat": 4,
 "nbformat_minor": 5
}
