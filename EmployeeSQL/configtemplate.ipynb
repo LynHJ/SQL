{
 "cells": [
  {
   "cell_type": "code",
   "execution_count": null,
   "id": "01521a10",
   "metadata": {},
   "outputs": [],
   "source": [
    "#import config parser\n",
    "import configparser\n",
    "\n",
    "#create object of configparser\n",
    "config= configparser.ConfigParser()\n",
    "\n",
    "#create a section\n",
    "config.add_section(\"EmployeesSQL\")\n",
    "\n",
    "#adding key pairs\n",
    "config.set(\"EmployeesSQL\",\"user\",\"postgres\")\n",
    "config.set(\"EmployeesSQL\",\"password\",\"your password\")\n",
    "config.set(\"EmployeesSQL\",\"host\",\"localhost\")\n",
    "config.set(\"EmployeesSQL\",\"port\",\"5432\")\n",
    "config.set(\"EmployeesSQL\",\"database\",\"EmployeesSQL\")\n",
    "                        \n",
    "with open('config.ini','w')as example:\n",
    "    config.write(example)"
   ]
  }
 ],
 "metadata": {
  "kernelspec": {
   "display_name": "Python [conda env:PythonData] *",
   "language": "python",
   "name": "conda-env-PythonData-py"
  },
  "language_info": {
   "codemirror_mode": {
    "name": "ipython",
    "version": 3
   },
   "file_extension": ".py",
   "mimetype": "text/x-python",
   "name": "python",
   "nbconvert_exporter": "python",
   "pygments_lexer": "ipython3",
   "version": "3.7.7"
  }
 },
 "nbformat": 4,
 "nbformat_minor": 5
}
